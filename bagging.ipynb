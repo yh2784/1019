{
 "cells": [
  {
   "cell_type": "code",
   "execution_count": 1,
   "id": "a4b41d24-0839-411b-87d2-4796056f5af1",
   "metadata": {},
   "outputs": [
    {
     "name": "stderr",
     "output_type": "stream",
     "text": [
      "/ext3/miniconda3/lib/python3.9/site-packages/cudf/utils/gpu_utils.py:62: UserWarning: Failed to dlopen libcuda.so.1\n",
      "  warnings.warn(str(e))\n"
     ]
    }
   ],
   "source": [
    "import pandas as pd\n",
    "import numpy as np\n",
    "from time import time\n",
    "import math\n",
    "from tqdm import tqdm\n",
    "from matplotlib import pyplot as plt\n",
    "from sklearn.model_selection import train_test_split\n",
    "import cudf"
   ]
  },
  {
   "cell_type": "code",
   "execution_count": 2,
   "id": "0abc92df-a7e5-4050-9c26-ab846cf616eb",
   "metadata": {},
   "outputs": [],
   "source": [
    "# df_raw = cudf.read_csv('df_train_clean.csv').to_pandas()\n",
    "df_raw = pd.read_csv('df_train_clean.csv')"
   ]
  },
  {
   "cell_type": "code",
   "execution_count": 3,
   "id": "992a5a85-ea80-4b8a-b77b-cad8a21a65c9",
   "metadata": {},
   "outputs": [
    {
     "name": "stderr",
     "output_type": "stream",
     "text": [
      "/state/partition1/job-45930720/ipykernel_3686680/3478663700.py:3: SettingWithCopyWarning: \n",
      "A value is trying to be set on a copy of a slice from a DataFrame.\n",
      "Try using .loc[row_indexer,col_indexer] = value instead\n",
      "\n",
      "See the caveats in the documentation: https://pandas.pydata.org/pandas-docs/stable/user_guide/indexing.html#returning-a-view-versus-a-copy\n",
      "  df_features['if_night'] = df_features['if_night'].astype('int')\n"
     ]
    }
   ],
   "source": [
    "features = ['pickup_longitude', 'pickup_latitude', 'dropoff_longitude', 'dropoff_latitude', 'passenger_count', 'distance', 'dow', 'month', 'if_night']\n",
    "df_features = df_raw[features]\n",
    "df_features['if_night'] = df_features['if_night'].astype('int')"
   ]
  },
  {
   "cell_type": "code",
   "execution_count": 4,
   "id": "246ff201-38d5-40e2-8fe5-151d59600ab5",
   "metadata": {},
   "outputs": [
    {
     "name": "stdout",
     "output_type": "stream",
     "text": [
      "(42138129, 10) (42138129,) (10534533, 10) (10534533,)\n"
     ]
    }
   ],
   "source": [
    "x = df_features.to_numpy()\n",
    "y = df_raw['fare_amount'].to_numpy()\n",
    "x_train, x_test, y_train, y_test = train_test_split(x, y, test_size=0.2, random_state=2784)\n",
    "x_train = np.column_stack((x_train, np.ones_like(y_train)))\n",
    "x_test = np.column_stack((x_test, np.ones_like(y_test)))\n",
    "print(x_train.shape, y_train.shape, x_test.shape, y_test.shape)"
   ]
  },
  {
   "cell_type": "code",
   "execution_count": 5,
   "id": "2dba3ff0-c45e-4c2c-8fc0-4576d2bb8bb8",
   "metadata": {},
   "outputs": [],
   "source": [
    "def evaluate(pred, target):\n",
    "    return np.sqrt(np.sum((pred - target) ** 2) / len(pred))"
   ]
  },
  {
   "cell_type": "code",
   "execution_count": 6,
   "id": "de787ab1-b7ae-420e-a5e5-dc6494a52d37",
   "metadata": {},
   "outputs": [],
   "source": [
    "from numba import jit\n",
    "\n",
    "@jit(nopython=True, parallel = True)\n",
    "def evaluate(pred, target):\n",
    "    return np.sqrt(np.mean(((pred - target) ** 2)))"
   ]
  },
  {
   "cell_type": "code",
   "execution_count": 7,
   "id": "246e2a40-5235-404b-9c20-a8078ef07686",
   "metadata": {},
   "outputs": [],
   "source": [
    "from numba import jit\n",
    "\n",
    "@jit(nopython=True, parallel = True)\n",
    "def numba_poly(x, degree):\n",
    "    m, n = x.shape\n",
    "    x_poly = np.ones((m, degree*n + 1))\n",
    "    \n",
    "    for d in range(1, degree + 1):\n",
    "        x_poly[:, (d-1)*n:d*n] = np.power(x, d)\n",
    "    \n",
    "    return x_poly"
   ]
  },
  {
   "cell_type": "code",
   "execution_count": 8,
   "id": "554eed56-6ac9-4534-8890-2f5faaa582e7",
   "metadata": {},
   "outputs": [
    {
     "name": "stderr",
     "output_type": "stream",
     "text": [
      "/ext3/miniconda3/lib/python3.9/site-packages/numba/np/ufunc/parallel.py:371: NumbaWarning: \u001b[1mThe TBB threading layer requires TBB version 2021 update 6 or later i.e., TBB_INTERFACE_VERSION >= 12060. Found TBB_INTERFACE_VERSION = 12050. The TBB threading layer is disabled.\u001b[0m\n",
      "  warnings.warn(problem)\n",
      "OMP: Info #276: omp_set_nested routine deprecated, please use omp_set_max_active_levels instead.\n"
     ]
    },
    {
     "name": "stdout",
     "output_type": "stream",
     "text": [
      "train RMSE: 3.888225323375803, test RMSE: 3.8863474694461924\n"
     ]
    }
   ],
   "source": [
    "# closed-form solution\n",
    "def cfs(x_train, y_train, x_test, y_test):\n",
    "    A = np.linalg.inv(x_train.T.dot(x_train)).dot(x_train.T).dot(y_train)\n",
    "    pred_train = A @ x_train.T\n",
    "    pred_test = A @ x_test.T\n",
    "    return A, pred_train, pred_test\n",
    "\n",
    "A, pred_train, pred_test = cfs(x_train, y_train, x_test, y_test)\n",
    "print('train RMSE: {}, test RMSE: {}'.format(evaluate(pred_train, y_train), evaluate(pred_test, y_test)))"
   ]
  },
  {
   "cell_type": "code",
   "execution_count": 9,
   "id": "be6de9cc-5ba9-487b-af74-8daff1ea0b24",
   "metadata": {},
   "outputs": [],
   "source": [
    "def ridge_cfs(x_train, y_train, x_test, y_test, alpha):\n",
    "    m, n = x_train.shape\n",
    "    alphaI = alpha * np.identity(n)\n",
    "    \n",
    "    A = np.linalg.inv(x_train.T.dot(x_train) + alphaI).dot(x_train.T.dot(y_train))\n",
    "    pred_train = A @ x_train.T\n",
    "    pred_test = A @ x_test.T\n",
    "    return A, pred_train, pred_test"
   ]
  },
  {
   "cell_type": "markdown",
   "id": "7adfdd78-3c1b-42b2-af7c-17098c65003a",
   "metadata": {},
   "source": [
    "### Bagging"
   ]
  },
  {
   "cell_type": "code",
   "execution_count": 10,
   "id": "64fc35c6-1bdb-41cb-9bc1-bc7cde8d68b7",
   "metadata": {},
   "outputs": [
    {
     "name": "stdout",
     "output_type": "stream",
     "text": [
      "Time: 0.0001761913299560547\n"
     ]
    }
   ],
   "source": [
    "num_model = 10\n",
    "start_time = time()\n",
    "size = x_train.shape[0] // num_model\n",
    "x_train_bag = []\n",
    "y_train_bag = []\n",
    "for i in range(num_model):\n",
    "    if i != (num_model-1):\n",
    "        x_train_bag.append(x_train[i*size: (i+1)*size, :])\n",
    "        y_train_bag.append(y_train[i*size: (i+1)*size])\n",
    "    else:\n",
    "        x_train_bag.append(x_train[i*size:, :])\n",
    "        y_train_bag.append(y_train[i*size:])\n",
    "print('Time:', time()-start_time)"
   ]
  },
  {
   "cell_type": "code",
   "execution_count": 11,
   "id": "e89cc478-aa90-4394-b5a6-c23e93c3aeb3",
   "metadata": {},
   "outputs": [
    {
     "name": "stdout",
     "output_type": "stream",
     "text": [
      "Time: 0.0001811981201171875\n"
     ]
    }
   ],
   "source": [
    "start_time = time()\n",
    "x_train_bag = np.array_split(x_train, num_model)\n",
    "y_train_bag = np.array_split(y_train, num_model)\n",
    "print('Time:', time()-start_time)"
   ]
  },
  {
   "cell_type": "markdown",
   "id": "4ab4f71b-2566-46f4-aae4-451a697b2740",
   "metadata": {},
   "source": [
    "**Without Pooling**"
   ]
  },
  {
   "cell_type": "code",
   "execution_count": 12,
   "id": "a8ee05bd-f43b-4579-9847-9b8673118f82",
   "metadata": {},
   "outputs": [
    {
     "name": "stdout",
     "output_type": "stream",
     "text": [
      "Time: 63.302993297576904\n"
     ]
    },
    {
     "name": "stderr",
     "output_type": "stream",
     "text": [
      "10it [00:47,  4.80s/it]\n"
     ]
    },
    {
     "name": "stdout",
     "output_type": "stream",
     "text": [
      "3.7941910505352165 3.792306243166858\n"
     ]
    }
   ],
   "source": [
    "start_time = time()\n",
    "\n",
    "degrees = range(1, 5)\n",
    "alphas = [0.005, 0.01, 0.05, 0.1, 0.3, 0.5, 0.7, 0.9]\n",
    "models = []\n",
    "degree = []\n",
    "\n",
    "\n",
    "for index, x in enumerate(x_train_bag):\n",
    "    y = y_train_bag[index]\n",
    "    best_model = None\n",
    "    best_d = None\n",
    "    rmse_min = np.inf \n",
    "    \n",
    "    for i, d in enumerate(degrees):\n",
    "        x_train_poly = numba_poly(x, d)\n",
    "        x_test_poly = numba_poly(x_test, d)\n",
    "        for j, alpha in enumerate(alphas):\n",
    "            A, pred_train, pred_test = ridge_cfs(x_train_poly, y, x_test_poly, y_test, alpha)\n",
    "            test_rmse = evaluate(pred_test, y_test)\n",
    "            if test_rmse < rmse_min:\n",
    "                best_model = A\n",
    "                best_d = d\n",
    "                rmse_min = test_rmse\n",
    "    models.append(best_model)\n",
    "    degree.append(best_d)\n",
    "print('Time:', time()-start_time)\n",
    "\n",
    "preds_train = []\n",
    "preds_test = []\n",
    "for i, m in tqdm(enumerate(models)):\n",
    "    d = degree[i]\n",
    "    x_train_poly = numba_poly(x_train, d)\n",
    "    x_test_poly = numba_poly(x_test, d)\n",
    "    preds_train.append(x_train_poly.dot(m))\n",
    "    preds_test.append(x_test_poly.dot(m))\n",
    "    \n",
    "preds_train = np.array(preds_train)\n",
    "preds_train = np.mean(preds_train, axis=0)\n",
    "preds_test = np.array(preds_test)\n",
    "preds_test = np.mean(preds_test, axis=0)\n",
    "print(evaluate(preds_train, y_train), evaluate(preds_test, y_test))"
   ]
  },
  {
   "cell_type": "markdown",
   "id": "2fb4ca4f-4cf2-463b-9995-58e9a8427bf8",
   "metadata": {},
   "source": [
    "**With multiprocessing pool**"
   ]
  },
  {
   "cell_type": "code",
   "execution_count": 13,
   "id": "94dcc111-366f-4629-84df-5182555d0509",
   "metadata": {},
   "outputs": [
    {
     "name": "stderr",
     "output_type": "stream",
     "text": [
      "100%|██████████| 10/10 [00:00<00:00, 651.83it/s]\n"
     ]
    },
    {
     "name": "stdout",
     "output_type": "stream",
     "text": [
      "-\n",
      "-\n",
      "-\n",
      "-\n",
      "-\n",
      "-\n",
      "-\n",
      "-\n",
      "-\n",
      "-\n",
      "Time: 100.72308254241943\n"
     ]
    },
    {
     "name": "stderr",
     "output_type": "stream",
     "text": [
      "10it [00:50,  5.01s/it]\n"
     ]
    },
    {
     "name": "stdout",
     "output_type": "stream",
     "text": [
      "3.7941910505352165 3.792306243166858\n"
     ]
    }
   ],
   "source": [
    "def build(xy):\n",
    "    x = xy[:, :-1]\n",
    "    y = xy[:, -1]\n",
    "    best_model = None\n",
    "    best_d = None\n",
    "    rmse_min = np.inf\n",
    "    print('-')\n",
    "    for i, d in enumerate(degrees):\n",
    "        x_train_poly = numba_poly(x, d)\n",
    "        x_test_poly = numba_poly(x_test, d)\n",
    "        for j, alpha in enumerate(alphas):\n",
    "            A, pred_train, pred_test = ridge_cfs(x_train_poly, y, x_test_poly, y_test, alpha)\n",
    "            test_rmse = evaluate(pred_test, y_test)\n",
    "            if test_rmse < rmse_min:\n",
    "                best_model = A\n",
    "                best_d = d\n",
    "                rmse_min = test_rmse\n",
    "    return best_model, best_d\n",
    "\n",
    "\n",
    "degrees = range(1, 5)\n",
    "alphas = [0.005, 0.01, 0.05, 0.1, 0.3, 0.5, 0.7, 0.9]\n",
    "\n",
    "train_combined = np.hstack((x_train, y_train.reshape((y_train.shape[0], 1))))\n",
    "num_model = 10\n",
    "size = train_combined.shape[0] // num_model\n",
    "xy_train_bag = np.array_split(train_combined, num_model)\n",
    "\n",
    "from concurrent.futures import ThreadPoolExecutor\n",
    "from multiprocessing import Pool, cpu_count\n",
    "\n",
    "start_time = time()\n",
    "with ThreadPoolExecutor(max_workers=cpu_count()) as executor:\n",
    "    results = list(executor.map(build, tqdm(xy_train_bag)))\n",
    "print('Time:', time()-start_time)\n",
    "\n",
    "preds_train = []\n",
    "preds_test = []\n",
    "for i, result in tqdm(enumerate(results)):\n",
    "    m = result[0]\n",
    "    d = result[1]\n",
    "    x_train_poly = numba_poly(x_train, d)\n",
    "    x_test_poly = numba_poly(x_test, d)\n",
    "    preds_train.append(x_train_poly.dot(m))\n",
    "    preds_test.append(x_test_poly.dot(m))\n",
    "\n",
    "preds_train = np.array(preds_train)\n",
    "preds_train = np.mean(preds_train, axis=0)\n",
    "preds_test = np.array(preds_test)\n",
    "preds_test = np.mean(preds_test, axis=0)\n",
    "print(evaluate(preds_train, y_train), evaluate(preds_test, y_test))"
   ]
  },
  {
   "cell_type": "markdown",
   "id": "2566b6e6-9452-4d6b-a84c-ee6fc5068b88",
   "metadata": {},
   "source": [
    "**Threading & numpy optimization**"
   ]
  },
  {
   "cell_type": "code",
   "execution_count": 15,
   "id": "5338b8b9-5dae-4a91-af9c-d052a1f3c8ef",
   "metadata": {},
   "outputs": [],
   "source": [
    "def build(xy):\n",
    "    x = xy[:, :-1]\n",
    "    y = xy[:, -1]\n",
    "    A = np.linalg.inv(x.T.dot(x)).dot(x.T).dot(y)\n",
    "    return A\n",
    "\n",
    "train_combined = np.hstack((x_train, y_train.reshape((y_train.shape[0], 1))))\n",
    "num_model = 100\n",
    "size = x_train.shape[0] // num_model\n",
    "xy_train_bag = []\n",
    "for i in range(num_model):\n",
    "    if i != (num_model-1):\n",
    "        xy_train_bag.append(train_combined[i*size: (i+1)*size, :])\n",
    "    else:\n",
    "        xy_train_bag.append(train_combined[i*size:, :])"
   ]
  },
  {
   "cell_type": "code",
   "execution_count": 16,
   "id": "830d821a-9c98-4c4c-aa5e-b70026063376",
   "metadata": {},
   "outputs": [
    {
     "name": "stderr",
     "output_type": "stream",
     "text": [
      "100%|██████████| 100/100 [00:03<00:00, 27.88it/s]\n"
     ]
    },
    {
     "name": "stdout",
     "output_type": "stream",
     "text": [
      "3.8874843046946705 3.8893123081804886\n",
      "Time: 42.552006006240845\n"
     ]
    }
   ],
   "source": [
    "from concurrent.futures import ThreadPoolExecutor\n",
    "from multiprocessing import Pool, cpu_count\n",
    "start_time = time()\n",
    "\n",
    "with ThreadPoolExecutor(max_workers=cpu_count()) as executor:\n",
    "    models = list(executor.map(build, tqdm(xy_train_bag)))\n",
    "\n",
    "pred_train = np.mean(x_train.dot(np.array(models).T), axis=1)\n",
    "pred_test = np.mean(x_test.dot(np.array(models).T), axis=1)\n",
    "print(evaluate(pred_train, y_train), evaluate(pred_test, y_test))\n",
    "print('Time:', time()-start_time)"
   ]
  },
  {
   "cell_type": "markdown",
   "id": "fa683a68-d666-47be-afb0-d446e2227c40",
   "metadata": {},
   "source": [
    "**xgboost**"
   ]
  },
  {
   "cell_type": "code",
   "execution_count": 7,
   "id": "53ea272c-d217-46c5-a13e-5f636f82d5f4",
   "metadata": {},
   "outputs": [
    {
     "name": "stdout",
     "output_type": "stream",
     "text": [
      "29.77746605873108\n"
     ]
    }
   ],
   "source": [
    "import xgboost as xgb\n",
    "from multiprocessing import Pool, cpu_count\n",
    "start_time = time()\n",
    "dtrain = xgb.DMatrix(x_train, label=y_train)\n",
    "params = {\n",
    "    'objective': 'reg:squarederror',\n",
    "    'max_depth': 4,\n",
    "    'eta': 0.1,\n",
    "    'subsample': 0.8,\n",
    "    'colsample_bytree': 0.8,\n",
    "    'eval_metric': 'rmse',\n",
    "    'n_jobs': -1,\n",
    "    'tree_method': 'gpu_hist',  # GPU acceleration\n",
    "}\n",
    "\n",
    "num_boost_round = 200\n",
    "model = xgb.train(params, dtrain, num_boost_round)\n",
    "print(time()-start_time)"
   ]
  },
  {
   "cell_type": "code",
   "execution_count": 8,
   "id": "a057b322-41c0-45fd-b06e-1bc41f7d98f4",
   "metadata": {
    "scrolled": true
   },
   "outputs": [
    {
     "data": {
      "text/plain": [
       "(3.43670333520457, 3.4361313508607387)"
      ]
     },
     "execution_count": 8,
     "metadata": {},
     "output_type": "execute_result"
    }
   ],
   "source": [
    "dtest = xgb.DMatrix(x_test)\n",
    "pred_train = model.predict(dtrain)\n",
    "pred_test = model.predict(dtest)\n",
    "evaluate(pred_train, y_train), evaluate(pred_test, y_test)"
   ]
  },
  {
   "cell_type": "code",
   "execution_count": null,
   "id": "8ee0fdf1-34e1-4224-a6e4-41f0deb7911a",
   "metadata": {},
   "outputs": [],
   "source": []
  }
 ],
 "metadata": {
  "kernelspec": {
   "display_name": "my_env",
   "language": "python",
   "name": "my_env"
  },
  "language_info": {
   "codemirror_mode": {
    "name": "ipython",
    "version": 3
   },
   "file_extension": ".py",
   "mimetype": "text/x-python",
   "name": "python",
   "nbconvert_exporter": "python",
   "pygments_lexer": "ipython3",
   "version": "3.9.17"
  }
 },
 "nbformat": 4,
 "nbformat_minor": 5
}
